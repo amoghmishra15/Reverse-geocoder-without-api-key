{
 "cells": [
  {
   "cell_type": "code",
   "execution_count": 6,
   "metadata": {},
   "outputs": [],
   "source": [
    "import pandas as pd\n",
    "from geopy.geocoders import Nominatim"
   ]
  },
  {
   "cell_type": "code",
   "execution_count": 7,
   "metadata": {},
   "outputs": [],
   "source": [
    "df = pd.read_excel('latlong file.xlsx') # change to actual file with 'read_csv'\n",
    "geolocator = Nominatim(user_agent=\"geoapiExercises\")\n",
    "cities = []\n",
    "states = []\n",
    "for i in df.values:\n",
    "    f = geolocator.reverse(str(i[0])+\",\"+str(i[1])).raw['address'].get('city', '')\n",
    "    if f=='':\n",
    "        f = geolocator.reverse(str(i[0])+\",\"+str(i[1])).raw['address'].get('city_district', '')\n",
    "        if f=='':\n",
    "            f = geolocator.reverse(str(i[0])+\",\"+str(i[1])).raw['address'].get('village', '')\n",
    "    cities.append(f)\n",
    "for i in df.values:\n",
    "    f = geolocator.reverse(str(i[0])+\",\"+str(i[1])).raw['address'].get('state', '')\n",
    "    states.append(f)\n",
    "    "
   ]
  },
  {
   "cell_type": "code",
   "execution_count": 8,
   "metadata": {},
   "outputs": [],
   "source": [
    "df['City'] = cities\n",
    "df['State'] = states\n",
    "df.to_excel(\"Output.xlsx\")"
   ]
  }
 ],
 "metadata": {
  "kernelspec": {
   "display_name": "Python 3",
   "language": "python",
   "name": "python3"
  },
  "language_info": {
   "codemirror_mode": {
    "name": "ipython",
    "version": 3
   },
   "file_extension": ".py",
   "mimetype": "text/x-python",
   "name": "python",
   "nbconvert_exporter": "python",
   "pygments_lexer": "ipython3",
   "version": "3.10.11"
  },
  "orig_nbformat": 4
 },
 "nbformat": 4,
 "nbformat_minor": 2
}
