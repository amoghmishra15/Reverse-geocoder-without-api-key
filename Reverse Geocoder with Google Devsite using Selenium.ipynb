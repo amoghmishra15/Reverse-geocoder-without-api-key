{
 "cells": [
  {
   "cell_type": "code",
   "execution_count": 11,
   "metadata": {},
   "outputs": [],
   "source": [
    "from selenium import webdriver\n",
    "from selenium.webdriver.common.by import By\n",
    "import time\n",
    "import math"
   ]
  },
  {
   "cell_type": "code",
   "execution_count": 12,
   "metadata": {},
   "outputs": [
    {
     "data": {
      "text/html": [
       "<div>\n",
       "<style scoped>\n",
       "    .dataframe tbody tr th:only-of-type {\n",
       "        vertical-align: middle;\n",
       "    }\n",
       "\n",
       "    .dataframe tbody tr th {\n",
       "        vertical-align: top;\n",
       "    }\n",
       "\n",
       "    .dataframe thead th {\n",
       "        text-align: right;\n",
       "    }\n",
       "</style>\n",
       "<table border=\"1\" class=\"dataframe\">\n",
       "  <thead>\n",
       "    <tr style=\"text-align: right;\">\n",
       "      <th></th>\n",
       "      <th>ORIGINAL ADDRESS</th>\n",
       "      <th>CLEANED ADDRESS</th>\n",
       "      <th>GEOCODE</th>\n",
       "    </tr>\n",
       "  </thead>\n",
       "  <tbody>\n",
       "    <tr>\n",
       "      <th>0</th>\n",
       "      <td>#6 KANAKAPURA MAIN ROAD NEAR ART OF LEAVING SA...</td>\n",
       "      <td>ART OF LEAVING SALLU DODDI BANGALORE 560058</td>\n",
       "      <td>13.028087,77.512079</td>\n",
       "    </tr>\n",
       "    <tr>\n",
       "      <th>1</th>\n",
       "      <td>No 370/14, Munireddy Garden, Bellandur, Bangal...</td>\n",
       "      <td>Munireddy Garden, Bellandur, Bangalore-560019</td>\n",
       "      <td>12.924833,77.677545</td>\n",
       "    </tr>\n",
       "    <tr>\n",
       "      <th>2</th>\n",
       "      <td>No 41, 3rd Cross Bellandur Village Post outer ...</td>\n",
       "      <td>3rd Cross Bellandur Village Post outer Ring Ro...</td>\n",
       "      <td>12.927375,77.679276</td>\n",
       "    </tr>\n",
       "    <tr>\n",
       "      <th>3</th>\n",
       "      <td>#68,1 Cross, Bellandur Village Bellandur Post ...</td>\n",
       "      <td>1 Cross, Bellandur Village Bellandur Post Bang...</td>\n",
       "      <td>12.954347,77.661013</td>\n",
       "    </tr>\n",
       "    <tr>\n",
       "      <th>4</th>\n",
       "      <td>S/O Narayanappa, Chiyandahalli, Yalagondahalli...</td>\n",
       "      <td>Narayanappa, Chiyandahalli, Yalagondahalli, Ko...</td>\n",
       "      <td>13.097013,78.28036</td>\n",
       "    </tr>\n",
       "    <tr>\n",
       "      <th>...</th>\n",
       "      <td>...</td>\n",
       "      <td>...</td>\n",
       "      <td>...</td>\n",
       "    </tr>\n",
       "    <tr>\n",
       "      <th>6536</th>\n",
       "      <td>567 14TH MAIN 23RD CRODSS HSR LAYOUT 3RD SECTO...</td>\n",
       "      <td>14TH MAIN 23RD CRODSS HSR LAYOUT 3rd sector  B...</td>\n",
       "      <td>12.908728,77.637994</td>\n",
       "    </tr>\n",
       "    <tr>\n",
       "      <th>6537</th>\n",
       "      <td>62 HULLIMAVA SOMESHWARA LAYOUTÂ  BANGALORE 560076</td>\n",
       "      <td>HULLIMAVA SOMESHWARA LAYOUT  BANGALORE 560076</td>\n",
       "      <td>12.876526,77.607232</td>\n",
       "    </tr>\n",
       "    <tr>\n",
       "      <th>6538</th>\n",
       "      <td>VINAYAKARLAY NEAR MARIYAMMA TEMPLERI NAGAR MD ...</td>\n",
       "      <td>VINAYAKARLAY NEAR MARIYAMMA TEMPLE NAGAR MD PU...</td>\n",
       "      <td>12.985359,77.708126</td>\n",
       "    </tr>\n",
       "    <tr>\n",
       "      <th>6539</th>\n",
       "      <td>2ND CROSS MASJID ROAD BASAVANNAGARÂ  HOODI MAH...</td>\n",
       "      <td>2ND CROSS MASJID ROAD BASAVANNAGARA  HOODI MAH...</td>\n",
       "      <td>12.919506,77.604521</td>\n",
       "    </tr>\n",
       "    <tr>\n",
       "      <th>6540</th>\n",
       "      <td>NO, 10 PATTANDUR, AGRAHARA, NEAR, GANESHA TEMP...</td>\n",
       "      <td>PATTANDUR, AGRAHARA, NEAR, GANESHA TEMPLE, ITP...</td>\n",
       "      <td>12.986234,77.731691</td>\n",
       "    </tr>\n",
       "  </tbody>\n",
       "</table>\n",
       "<p>6541 rows × 3 columns</p>\n",
       "</div>"
      ],
      "text/plain": [
       "                                       ORIGINAL ADDRESS  \\\n",
       "0     #6 KANAKAPURA MAIN ROAD NEAR ART OF LEAVING SA...   \n",
       "1     No 370/14, Munireddy Garden, Bellandur, Bangal...   \n",
       "2     No 41, 3rd Cross Bellandur Village Post outer ...   \n",
       "3     #68,1 Cross, Bellandur Village Bellandur Post ...   \n",
       "4     S/O Narayanappa, Chiyandahalli, Yalagondahalli...   \n",
       "...                                                 ...   \n",
       "6536  567 14TH MAIN 23RD CRODSS HSR LAYOUT 3RD SECTO...   \n",
       "6537  62 HULLIMAVA SOMESHWARA LAYOUTÂ  BANGALORE 560076   \n",
       "6538  VINAYAKARLAY NEAR MARIYAMMA TEMPLERI NAGAR MD ...   \n",
       "6539  2ND CROSS MASJID ROAD BASAVANNAGARÂ  HOODI MAH...   \n",
       "6540  NO, 10 PATTANDUR, AGRAHARA, NEAR, GANESHA TEMP...   \n",
       "\n",
       "                                        CLEANED ADDRESS              GEOCODE  \n",
       "0           ART OF LEAVING SALLU DODDI BANGALORE 560058  13.028087,77.512079  \n",
       "1         Munireddy Garden, Bellandur, Bangalore-560019  12.924833,77.677545  \n",
       "2     3rd Cross Bellandur Village Post outer Ring Ro...  12.927375,77.679276  \n",
       "3     1 Cross, Bellandur Village Bellandur Post Bang...  12.954347,77.661013  \n",
       "4     Narayanappa, Chiyandahalli, Yalagondahalli, Ko...   13.097013,78.28036  \n",
       "...                                                 ...                  ...  \n",
       "6536  14TH MAIN 23RD CRODSS HSR LAYOUT 3rd sector  B...  12.908728,77.637994  \n",
       "6537      HULLIMAVA SOMESHWARA LAYOUT  BANGALORE 560076  12.876526,77.607232  \n",
       "6538  VINAYAKARLAY NEAR MARIYAMMA TEMPLE NAGAR MD PU...  12.985359,77.708126  \n",
       "6539  2ND CROSS MASJID ROAD BASAVANNAGARA  HOODI MAH...  12.919506,77.604521  \n",
       "6540  PATTANDUR, AGRAHARA, NEAR, GANESHA TEMPLE, ITP...  12.986234,77.731691  \n",
       "\n",
       "[6541 rows x 3 columns]"
      ]
     },
     "execution_count": 12,
     "metadata": {},
     "output_type": "execute_result"
    }
   ],
   "source": [
    "import pandas as pd\n",
    "df=pd.read_excel(\"file_name.xlsx\") #Insert File name here\n",
    "df"
   ]
  },
  {
   "cell_type": "code",
   "execution_count": 13,
   "metadata": {},
   "outputs": [],
   "source": [
    "driver = webdriver.Chrome()\n",
    "driver.get(\"https://developers-dot-devsite-v2-prod.appspot.com/maps/documentation/utils/geocoder\");\n",
    "time.sleep(3)"
   ]
  },
  {
   "cell_type": "code",
   "execution_count": 14,
   "metadata": {},
   "outputs": [],
   "source": [
    "columns = ['street_address', 'route', 'intersection', 'administrative_area_level_1', 'administrative_area_level_2', 'administrative_area_level_3', 'administrative_area_level_4', 'locality', 'sublocality', 'neighborhood', 'postal_code', 'point_of_interest', 'country', 'GEOCODE']\n",
    "# Columns of the data we want\n",
    "df1 = pd.DataFrame(columns=columns)"
   ]
  },
  {
   "cell_type": "code",
   "execution_count": 15,
   "metadata": {},
   "outputs": [
    {
     "name": "stdout",
     "output_type": "stream",
     "text": [
      "131\n"
     ]
    }
   ],
   "source": [
    "length = len(df.index)"
   ]
  },
  {
   "cell_type": "code",
   "execution_count": null,
   "metadata": {},
   "outputs": [],
   "source": [
    "geo = df['GEOCODE'].to_list() #change GEOCODE to the column name that contains the geocodes.\n",
    "for i in range(0, length):\n",
    "    df1.at[i, 'GEOCODE'] = geo[i] #change GEOCODE to the column name that contains the geocodes.\n",
    "\n",
    "# static code to interact with the website\n",
    "\n",
    "    geocode_key = driver.find_element(By.ID,'query-input').clear()\n",
    "    geocode_key = driver.find_element(By.ID,'query-input').send_keys(geo[i])\n",
    "    geocode_button = driver.find_element(By.ID,'geocode-button').click()\n",
    "    time.sleep(1)\n",
    "    target_table_elements = driver.find_elements(By.CLASS_NAME,'vtop')\n",
    "    count = 0\n",
    "    data = []\n",
    "    for i in target_table_elements:\n",
    "        if (count < 2):\n",
    "            data.append(i.text)\n",
    "            if \"locality\" in i.text:\n",
    "                count+=1\n",
    "    data.pop()\n",
    "    while(\"\" in data):\n",
    "        data.remove('')\n",
    "    while (\"political\" in data):\n",
    "        data.remove(\"political\")\n",
    "    data_dict = dict(zip(data[0::2], data[1::2]))\n",
    "    df1 = df1.append(data_dict, ignore_index=True)\n",
    "    time.sleep(1)"
   ]
  },
  {
   "cell_type": "code",
   "execution_count": null,
   "metadata": {},
   "outputs": [],
   "source": [
    "df1.to_excel(\"Output.xlsx\")"
   ]
  }
 ],
 "metadata": {
  "kernelspec": {
   "display_name": "Python 3",
   "language": "python",
   "name": "python3"
  },
  "language_info": {
   "codemirror_mode": {
    "name": "ipython",
    "version": 3
   },
   "file_extension": ".py",
   "mimetype": "text/x-python",
   "name": "python",
   "nbconvert_exporter": "python",
   "pygments_lexer": "ipython3",
   "version": "3.11.1"
  },
  "orig_nbformat": 4,
  "vscode": {
   "interpreter": {
    "hash": "894fd886903807851c6453d05e70328260073b79d53223db8b8860ad1cc20331"
   }
  }
 },
 "nbformat": 4,
 "nbformat_minor": 2
}
