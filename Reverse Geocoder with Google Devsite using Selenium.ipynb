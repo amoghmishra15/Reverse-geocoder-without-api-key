{
 "cells": [
  {
   "cell_type": "code",
   "execution_count": 52,
   "metadata": {},
   "outputs": [],
   "source": [
    "from selenium import webdriver\n",
    "from selenium.webdriver.common.by import By\n",
    "import time\n",
    "import math"
   ]
  },
  {
   "cell_type": "code",
   "execution_count": 53,
   "metadata": {},
   "outputs": [
    {
     "data": {
      "text/html": [
       "<div>\n",
       "<style scoped>\n",
       "    .dataframe tbody tr th:only-of-type {\n",
       "        vertical-align: middle;\n",
       "    }\n",
       "\n",
       "    .dataframe tbody tr th {\n",
       "        vertical-align: top;\n",
       "    }\n",
       "\n",
       "    .dataframe thead th {\n",
       "        text-align: right;\n",
       "    }\n",
       "</style>\n",
       "<table border=\"1\" class=\"dataframe\">\n",
       "  <thead>\n",
       "    <tr style=\"text-align: right;\">\n",
       "      <th></th>\n",
       "      <th>Address</th>\n",
       "      <th>GEOCODE</th>\n",
       "    </tr>\n",
       "  </thead>\n",
       "  <tbody>\n",
       "    <tr>\n",
       "      <th>0</th>\n",
       "      <td>7-898, Polerama Nagar, Brahmamgiri Mattam Mand...</td>\n",
       "      <td>14.825722,78.87980999999999</td>\n",
       "    </tr>\n",
       "    <tr>\n",
       "      <th>1</th>\n",
       "      <td>GURAUTHI (92), GHARAUTHI, ROTHK, HARYANA-124514</td>\n",
       "      <td>29.0358382,76.5257007</td>\n",
       "    </tr>\n",
       "    <tr>\n",
       "      <th>2</th>\n",
       "      <td>JATAV MOHALLA, OL, MATHURA, UTTAR PRADESH-281122</td>\n",
       "      <td>27.306637,77.6135158</td>\n",
       "    </tr>\n",
       "    <tr>\n",
       "      <th>3</th>\n",
       "      <td>SUKHRALI G.NO-4 H.NO-207 SEC-18 GURGAON HARYAN...</td>\n",
       "      <td>28.4892876,77.0790482</td>\n",
       "    </tr>\n",
       "    <tr>\n",
       "      <th>4</th>\n",
       "      <td>WARD NO-12, SAGA, JHUNJHUNUN, RAJASTHAN-333502</td>\n",
       "      <td>28.1614206,75.8388698</td>\n",
       "    </tr>\n",
       "    <tr>\n",
       "      <th>...</th>\n",
       "      <td>...</td>\n",
       "      <td>...</td>\n",
       "    </tr>\n",
       "    <tr>\n",
       "      <th>2095</th>\n",
       "      <td>RAI KHERA, TEH-TIJARA, ALWAR, RAJASTHAN,301411</td>\n",
       "      <td>27.9215376,76.772605</td>\n",
       "    </tr>\n",
       "    <tr>\n",
       "      <th>2096</th>\n",
       "      <td>LARPUR HATHRAS MAHAMAYA, NAGAR, U.P-204101</td>\n",
       "      <td>27.5980718,78.0492265</td>\n",
       "    </tr>\n",
       "    <tr>\n",
       "      <th>2097</th>\n",
       "      <td>S/O Anwar Khan H, 140, Roshan Naga Channarayap...</td>\n",
       "      <td>12.8979,76.3911</td>\n",
       "    </tr>\n",
       "    <tr>\n",
       "      <th>2098</th>\n",
       "      <td>#AT POST MARATAGERIMARATGERI HUNGUND BAGALKOT ...</td>\n",
       "      <td>15.9599949,76.2594981</td>\n",
       "    </tr>\n",
       "    <tr>\n",
       "      <th>2099</th>\n",
       "      <td>PIPALDA, INDORE MADHYA PRADESH-452020</td>\n",
       "      <td>22.5978185,76.0428172</td>\n",
       "    </tr>\n",
       "  </tbody>\n",
       "</table>\n",
       "<p>2100 rows × 2 columns</p>\n",
       "</div>"
      ],
      "text/plain": [
       "                                                Address   \n",
       "0     7-898, Polerama Nagar, Brahmamgiri Mattam Mand...  \\\n",
       "1       GURAUTHI (92), GHARAUTHI, ROTHK, HARYANA-124514   \n",
       "2      JATAV MOHALLA, OL, MATHURA, UTTAR PRADESH-281122   \n",
       "3     SUKHRALI G.NO-4 H.NO-207 SEC-18 GURGAON HARYAN...   \n",
       "4        WARD NO-12, SAGA, JHUNJHUNUN, RAJASTHAN-333502   \n",
       "...                                                 ...   \n",
       "2095     RAI KHERA, TEH-TIJARA, ALWAR, RAJASTHAN,301411   \n",
       "2096         LARPUR HATHRAS MAHAMAYA, NAGAR, U.P-204101   \n",
       "2097  S/O Anwar Khan H, 140, Roshan Naga Channarayap...   \n",
       "2098  #AT POST MARATAGERIMARATGERI HUNGUND BAGALKOT ...   \n",
       "2099              PIPALDA, INDORE MADHYA PRADESH-452020   \n",
       "\n",
       "                          GEOCODE  \n",
       "0     14.825722,78.87980999999999  \n",
       "1           29.0358382,76.5257007  \n",
       "2            27.306637,77.6135158  \n",
       "3           28.4892876,77.0790482  \n",
       "4           28.1614206,75.8388698  \n",
       "...                           ...  \n",
       "2095         27.9215376,76.772605  \n",
       "2096        27.5980718,78.0492265  \n",
       "2097              12.8979,76.3911  \n",
       "2098        15.9599949,76.2594981  \n",
       "2099        22.5978185,76.0428172  \n",
       "\n",
       "[2100 rows x 2 columns]"
      ]
     },
     "execution_count": 53,
     "metadata": {},
     "output_type": "execute_result"
    }
   ],
   "source": [
    "import pandas as pd\n",
    "df=pd.read_excel(\"test.xlsx\") #Insert File name here\n",
    "df"
   ]
  },
  {
   "cell_type": "code",
   "execution_count": 54,
   "metadata": {},
   "outputs": [],
   "source": [
    "driver = webdriver.Chrome()\n",
    "driver.get(\"https://developers-dot-devsite-v2-prod.appspot.com/maps/documentation/utils/geocoder\");\n",
    "time.sleep(3)"
   ]
  },
  {
   "cell_type": "code",
   "execution_count": 55,
   "metadata": {},
   "outputs": [],
   "source": [
    "columns = ['street_address', 'route', 'intersection', 'administrative_area_level_1', 'administrative_area_level_2', 'administrative_area_level_3', 'administrative_area_level_4', 'locality', 'sublocality', 'neighborhood', 'postal_code', 'point_of_interest', 'country', 'GEOCODE']\n",
    "# Columns of the data we want\n",
    "df1 = pd.DataFrame(columns=columns)"
   ]
  },
  {
   "cell_type": "code",
   "execution_count": 56,
   "metadata": {},
   "outputs": [],
   "source": [
    "length = len(df.index)"
   ]
  },
  {
   "cell_type": "code",
   "execution_count": 57,
   "metadata": {},
   "outputs": [
    {
     "ename": "KeyboardInterrupt",
     "evalue": "",
     "output_type": "error",
     "traceback": [
      "\u001b[1;31m---------------------------------------------------------------------------\u001b[0m",
      "\u001b[1;31mKeyboardInterrupt\u001b[0m                         Traceback (most recent call last)",
      "Cell \u001b[1;32mIn[57], line 25\u001b[0m\n\u001b[0;32m     23\u001b[0m     data\u001b[39m.\u001b[39mremove(\u001b[39m\"\u001b[39m\u001b[39mpolitical\u001b[39m\u001b[39m\"\u001b[39m)\n\u001b[0;32m     24\u001b[0m data_dict \u001b[39m=\u001b[39m \u001b[39mdict\u001b[39m(\u001b[39mzip\u001b[39m(data[\u001b[39m0\u001b[39m::\u001b[39m2\u001b[39m], data[\u001b[39m1\u001b[39m::\u001b[39m2\u001b[39m]))\n\u001b[1;32m---> 25\u001b[0m time\u001b[39m.\u001b[39;49msleep(\u001b[39m2\u001b[39;49m)\n\u001b[0;32m     26\u001b[0m collapse_button \u001b[39m=\u001b[39m driver\u001b[39m.\u001b[39mfind_element(By\u001b[39m.\u001b[39mID,\u001b[39m'\u001b[39m\u001b[39mhide-results-link\u001b[39m\u001b[39m'\u001b[39m)\u001b[39m.\u001b[39mclick()\n\u001b[0;32m     27\u001b[0m time\u001b[39m.\u001b[39msleep(\u001b[39m2\u001b[39m)\n",
      "\u001b[1;31mKeyboardInterrupt\u001b[0m: "
     ]
    }
   ],
   "source": [
    "geo = df['GEOCODE'].to_list() #change GEOCODE to the column name that contains the geocodes.\n",
    "for i in range(0, length):\n",
    "    df1.at[i, 'GEOCODE'] = geo[i] #change GEOCODE to the column name that contains the geocodes.\n",
    "\n",
    "# static code to interact with the website\n",
    "\n",
    "    geocode_key = driver.find_element(By.ID,'query-input').clear()\n",
    "    geocode_key = driver.find_element(By.ID,'query-input').send_keys(geo[i])\n",
    "    geocode_button = driver.find_element(By.ID,'geocode-button').click()\n",
    "    time.sleep(1)\n",
    "    target_table_elements = driver.find_elements(By.CLASS_NAME,'vtop')\n",
    "    count = 0\n",
    "    data = []\n",
    "    for i in target_table_elements:\n",
    "        if (count < 2):\n",
    "            data.append(i.text)\n",
    "            if \"locality\" in i.text:\n",
    "                count+=1\n",
    "    data.pop()\n",
    "    while(\"\" in data):\n",
    "        data.remove('')\n",
    "    while (\"political\" in data):\n",
    "        data.remove(\"political\")\n",
    "    data_dict = dict(zip(data[0::2], data[1::2]))\n",
    "    time.sleep(2)\n",
    "    collapse_button = driver.find_element(By.ID,'hide-results-link').click()\n",
    "    time.sleep(2)"
   ]
  },
  {
   "cell_type": "code",
   "execution_count": 59,
   "metadata": {},
   "outputs": [
    {
     "data": {
      "text/plain": [
       "{'plus_code': 'G6H7+V9',\n",
       " 'locality': 'Kotekallur',\n",
       " 'administrative_area_level_3': 'Chikkaballapura',\n",
       " 'administrative_area_level_2': 'Bangalore Division',\n",
       " 'administrative_area_level_1': 'Karnataka\\nKA',\n",
       " 'country': 'India\\nIN',\n",
       " 'route': 'Unnamed Road'}"
      ]
     },
     "execution_count": 59,
     "metadata": {},
     "output_type": "execute_result"
    }
   ],
   "source": [
    "data_dict"
   ]
  },
  {
   "cell_type": "code",
   "execution_count": 58,
   "metadata": {},
   "outputs": [
    {
     "ename": "AttributeError",
     "evalue": "'DataFrame' object has no attribute 'append'",
     "output_type": "error",
     "traceback": [
      "\u001b[1;31m---------------------------------------------------------------------------\u001b[0m",
      "\u001b[1;31mAttributeError\u001b[0m                            Traceback (most recent call last)",
      "\u001b[1;32m~\\AppData\\Local\\Temp\\ipykernel_14288\\2747929839.py\u001b[0m in \u001b[0;36m?\u001b[1;34m()\u001b[0m\n\u001b[1;32m----> 1\u001b[1;33m \u001b[0mdf1\u001b[0m \u001b[1;33m=\u001b[0m \u001b[0mdf1\u001b[0m\u001b[1;33m.\u001b[0m\u001b[0mappend\u001b[0m\u001b[1;33m(\u001b[0m\u001b[0mdata_dict\u001b[0m\u001b[1;33m,\u001b[0m \u001b[0mignore_index\u001b[0m\u001b[1;33m=\u001b[0m\u001b[1;32mTrue\u001b[0m\u001b[1;33m,\u001b[0m \u001b[0msort\u001b[0m\u001b[1;33m=\u001b[0m\u001b[1;32mFalse\u001b[0m\u001b[1;33m)\u001b[0m\u001b[1;33m\u001b[0m\u001b[1;33m\u001b[0m\u001b[0m\n\u001b[0m\u001b[0;32m      2\u001b[0m \u001b[0mdf1\u001b[0m\u001b[1;33m.\u001b[0m\u001b[0mto_excel\u001b[0m\u001b[1;33m(\u001b[0m\u001b[1;34m\"Output.xlsx\"\u001b[0m\u001b[1;33m)\u001b[0m\u001b[1;33m\u001b[0m\u001b[1;33m\u001b[0m\u001b[0m\n",
      "\u001b[1;32mc:\\Users\\Nidhi Dubey\\AppData\\Local\\Programs\\Python\\Python310\\lib\\site-packages\\pandas\\core\\generic.py\u001b[0m in \u001b[0;36m?\u001b[1;34m(self, name)\u001b[0m\n\u001b[0;32m   5985\u001b[0m             \u001b[1;32mand\u001b[0m \u001b[0mname\u001b[0m \u001b[1;32mnot\u001b[0m \u001b[1;32min\u001b[0m \u001b[0mself\u001b[0m\u001b[1;33m.\u001b[0m\u001b[0m_accessors\u001b[0m\u001b[1;33m\u001b[0m\u001b[1;33m\u001b[0m\u001b[0m\n\u001b[0;32m   5986\u001b[0m             \u001b[1;32mand\u001b[0m \u001b[0mself\u001b[0m\u001b[1;33m.\u001b[0m\u001b[0m_info_axis\u001b[0m\u001b[1;33m.\u001b[0m\u001b[0m_can_hold_identifiers_and_holds_name\u001b[0m\u001b[1;33m(\u001b[0m\u001b[0mname\u001b[0m\u001b[1;33m)\u001b[0m\u001b[1;33m\u001b[0m\u001b[1;33m\u001b[0m\u001b[0m\n\u001b[0;32m   5987\u001b[0m         ):\n\u001b[0;32m   5988\u001b[0m             \u001b[1;32mreturn\u001b[0m \u001b[0mself\u001b[0m\u001b[1;33m[\u001b[0m\u001b[0mname\u001b[0m\u001b[1;33m]\u001b[0m\u001b[1;33m\u001b[0m\u001b[1;33m\u001b[0m\u001b[0m\n\u001b[1;32m-> 5989\u001b[1;33m         \u001b[1;32mreturn\u001b[0m \u001b[0mobject\u001b[0m\u001b[1;33m.\u001b[0m\u001b[0m__getattribute__\u001b[0m\u001b[1;33m(\u001b[0m\u001b[0mself\u001b[0m\u001b[1;33m,\u001b[0m \u001b[0mname\u001b[0m\u001b[1;33m)\u001b[0m\u001b[1;33m\u001b[0m\u001b[1;33m\u001b[0m\u001b[0m\n\u001b[0m",
      "\u001b[1;31mAttributeError\u001b[0m: 'DataFrame' object has no attribute 'append'"
     ]
    }
   ],
   "source": [
    "df1 = df1.append(data_dict, ignore_index=True, sort=False)\n",
    "df1.to_excel(\"Output.xlsx\")"
   ]
  }
 ],
 "metadata": {
  "kernelspec": {
   "display_name": "Python 3",
   "language": "python",
   "name": "python3"
  },
  "language_info": {
   "codemirror_mode": {
    "name": "ipython",
    "version": 3
   },
   "file_extension": ".py",
   "mimetype": "text/x-python",
   "name": "python",
   "nbconvert_exporter": "python",
   "pygments_lexer": "ipython3",
   "version": "3.10.11"
  },
  "orig_nbformat": 4,
  "vscode": {
   "interpreter": {
    "hash": "894fd886903807851c6453d05e70328260073b79d53223db8b8860ad1cc20331"
   }
  }
 },
 "nbformat": 4,
 "nbformat_minor": 2
}
